{
 "cells": [
  {
   "cell_type": "code",
   "execution_count": 5,
   "id": "fd239db7-e5e3-4d98-bd10-25e8e4e6cb14",
   "metadata": {},
   "outputs": [
    {
     "name": "stdout",
     "output_type": "stream",
     "text": [
      "U : {1, 2, 3, 4, 5, 6, 7}\n",
      "A : {1, 3, 5, 7}\n",
      "B : {2, 3, 4, 5}\n",
      "~A : {2, 4, 6}\n",
      "~B : {1, 6, 7}\n",
      "de_morgans_law A ∪ B = ~A ∩ ~B:  {6}\n",
      "de_morgans_law ~A ∪ B = A ∩ ~B:  {1, 7}\n",
      "de_morgans_law A ∪ ~B = ~A ∩ B:  {2, 4}\n",
      "de_morgans_law ~A ∪ ~B = A ∩ B:  {3, 5}\n",
      "de_morgans_law A ∩ B = ~A ∪ ~B:  {1, 2, 4, 6, 7}\n",
      "de_morgans_law ~A ∩ B = A ∪ ~B:  {1, 3, 5, 6, 7}\n",
      "de_morgans_law A ∩ ~B = ~A ∪ B:  {2, 3, 4, 5, 6}\n",
      "de_morgans_law ~A ∩ ~B = A ∪ B:  {1, 2, 3, 4, 5, 7}\n"
     ]
    }
   ],
   "source": [
    "\n",
    "    U = {1, 2, 3, 4, 5, 6, 7}\n",
    "    A = {1, 3, 5 ,7}\n",
    "    B = {2,3, 4, 5}\n",
    "C = U.difference(A)\n",
    "D = U.difference(B)\n",
    "# ~A와 ~B를 구하여 전개하였습니다.\n",
    "print(\"U :\",U)\n",
    "print(\"A :\",A)\n",
    "print(\"B :\",B)\n",
    "print(\"~A :\",C)\n",
    "print(\"~B :\",D)\n",
    "\n",
    "print(\"de_morgans_law A ∪ B = ~A ∩ ~B: \" ,C.intersection(D))\n",
    "print(\"de_morgans_law ~A ∪ B = A ∩ ~B: \",A.intersection(D))\n",
    "print(\"de_morgans_law A ∪ ~B = ~A ∩ B: \" ,C.intersection(B))\n",
    "print(\"de_morgans_law ~A ∪ ~B = A ∩ B: \" ,A.intersection(B))\n",
    "\n",
    "print(\"de_morgans_law A ∩ B = ~A ∪ ~B: \" ,C.union(D))\n",
    "print(\"de_morgans_law ~A ∩ B = A ∪ ~B: \" ,A.union(D))\n",
    "print(\"de_morgans_law A ∩ ~B = ~A ∪ B: \" ,C.union(B))\n",
    "print(\"de_morgans_law ~A ∩ ~B = A ∪ B: \" ,A.union(B))\n",
    "\n",
    "#A와 B의 합집합과 교집합으로 드모르간 법칙이 적용된 경우를 모두 나타내었습니다. \n"
   ]
  },
  {
   "cell_type": "code",
   "execution_count": null,
   "id": "7b91f034-ec60-4fea-816b-42568a5f891d",
   "metadata": {},
   "outputs": [],
   "source": []
  }
 ],
 "metadata": {
  "kernelspec": {
   "display_name": "Python 3 (ipykernel)",
   "language": "python",
   "name": "python3"
  },
  "language_info": {
   "codemirror_mode": {
    "name": "ipython",
    "version": 3
   },
   "file_extension": ".py",
   "mimetype": "text/x-python",
   "name": "python",
   "nbconvert_exporter": "python",
   "pygments_lexer": "ipython3",
   "version": "3.11.7"
  }
 },
 "nbformat": 4,
 "nbformat_minor": 5
}
